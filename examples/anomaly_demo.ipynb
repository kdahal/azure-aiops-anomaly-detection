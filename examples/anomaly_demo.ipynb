{
 "cells": [
  {
   "cell_type": "markdown",
   "metadata": {},
   "source": [
    "## Setup: Install Dependencies\n",
    "Run this once to load project libs (requests, pandas, etc.)."
   ]
  },
  {
   "cell_type": "code",
   "execution_count": 1,
   "metadata": {},
   "outputs": [
    {
     "name": "stdout",
     "output_type": "stream",
     "text": [
      "Defaulting to user installation because normal site-packages is not writeable\n",
      "Requirement already satisfied: requests==2.31.0 in c:\\users\\kumar\\appdata\\local\\packages\\pythonsoftwarefoundation.python.3.12_qbz5n2kfra8p0\\localcache\\local-packages\\python312\\site-packages (from -r ../requirements.txt (line 1)) (2.31.0)\n",
      "Requirement already satisfied: azure-monitor-query==1.2.0 in c:\\users\\kumar\\appdata\\local\\packages\\pythonsoftwarefoundation.python.3.12_qbz5n2kfra8p0\\localcache\\local-packages\\python312\\site-packages (from -r ../requirements.txt (line 2)) (1.2.0)\n",
      "Requirement already satisfied: azure-identity==1.17.0 in c:\\users\\kumar\\appdata\\local\\packages\\pythonsoftwarefoundation.python.3.12_qbz5n2kfra8p0\\localcache\\local-packages\\python312\\site-packages (from -r ../requirements.txt (line 3)) (1.17.0)\n",
      "Requirement already satisfied: pandas==2.1.4 in c:\\users\\kumar\\appdata\\local\\packages\\pythonsoftwarefoundation.python.3.12_qbz5n2kfra8p0\\localcache\\local-packages\\python312\\site-packages (from -r ../requirements.txt (line 4)) (2.1.4)\n",
      "Requirement already satisfied: matplotlib==3.8.2 in c:\\users\\kumar\\appdata\\local\\packages\\pythonsoftwarefoundation.python.3.12_qbz5n2kfra8p0\\localcache\\local-packages\\python312\\site-packages (from -r ../requirements.txt (line 5)) (3.8.2)\n",
      "Requirement already satisfied: charset-normalizer<4,>=2 in c:\\users\\kumar\\appdata\\local\\packages\\pythonsoftwarefoundation.python.3.12_qbz5n2kfra8p0\\localcache\\local-packages\\python312\\site-packages (from requests==2.31.0->-r ../requirements.txt (line 1)) (3.4.3)\n",
      "Requirement already satisfied: idna<4,>=2.5 in c:\\users\\kumar\\appdata\\local\\packages\\pythonsoftwarefoundation.python.3.12_qbz5n2kfra8p0\\localcache\\local-packages\\python312\\site-packages (from requests==2.31.0->-r ../requirements.txt (line 1)) (3.10)\n",
      "Requirement already satisfied: urllib3<3,>=1.21.1 in c:\\users\\kumar\\appdata\\local\\packages\\pythonsoftwarefoundation.python.3.12_qbz5n2kfra8p0\\localcache\\local-packages\\python312\\site-packages (from requests==2.31.0->-r ../requirements.txt (line 1)) (2.5.0)\n",
      "Requirement already satisfied: certifi>=2017.4.17 in c:\\users\\kumar\\appdata\\local\\packages\\pythonsoftwarefoundation.python.3.12_qbz5n2kfra8p0\\localcache\\local-packages\\python312\\site-packages (from requests==2.31.0->-r ../requirements.txt (line 1)) (2025.10.5)\n",
      "Requirement already satisfied: azure-core<2.0.0,>=1.24.0 in c:\\users\\kumar\\appdata\\local\\packages\\pythonsoftwarefoundation.python.3.12_qbz5n2kfra8p0\\localcache\\local-packages\\python312\\site-packages (from azure-monitor-query==1.2.0->-r ../requirements.txt (line 2)) (1.35.1)\n",
      "Requirement already satisfied: isodate>=0.6.0 in c:\\users\\kumar\\appdata\\local\\packages\\pythonsoftwarefoundation.python.3.12_qbz5n2kfra8p0\\localcache\\local-packages\\python312\\site-packages (from azure-monitor-query==1.2.0->-r ../requirements.txt (line 2)) (0.7.2)\n",
      "Requirement already satisfied: typing-extensions>=4.0.1 in c:\\users\\kumar\\appdata\\local\\packages\\pythonsoftwarefoundation.python.3.12_qbz5n2kfra8p0\\localcache\\local-packages\\python312\\site-packages (from azure-monitor-query==1.2.0->-r ../requirements.txt (line 2)) (4.15.0)\n",
      "Requirement already satisfied: cryptography>=2.5 in c:\\users\\kumar\\appdata\\local\\packages\\pythonsoftwarefoundation.python.3.12_qbz5n2kfra8p0\\localcache\\local-packages\\python312\\site-packages (from azure-identity==1.17.0->-r ../requirements.txt (line 3)) (46.0.2)\n",
      "Requirement already satisfied: msal>=1.24.0 in c:\\users\\kumar\\appdata\\local\\packages\\pythonsoftwarefoundation.python.3.12_qbz5n2kfra8p0\\localcache\\local-packages\\python312\\site-packages (from azure-identity==1.17.0->-r ../requirements.txt (line 3)) (1.34.0)\n",
      "Requirement already satisfied: msal-extensions>=0.3.0 in c:\\users\\kumar\\appdata\\local\\packages\\pythonsoftwarefoundation.python.3.12_qbz5n2kfra8p0\\localcache\\local-packages\\python312\\site-packages (from azure-identity==1.17.0->-r ../requirements.txt (line 3)) (1.3.1)\n",
      "Requirement already satisfied: numpy<2,>=1.26.0 in c:\\users\\kumar\\appdata\\local\\packages\\pythonsoftwarefoundation.python.3.12_qbz5n2kfra8p0\\localcache\\local-packages\\python312\\site-packages (from pandas==2.1.4->-r ../requirements.txt (line 4)) (1.26.4)\n",
      "Requirement already satisfied: python-dateutil>=2.8.2 in c:\\users\\kumar\\appdata\\local\\packages\\pythonsoftwarefoundation.python.3.12_qbz5n2kfra8p0\\localcache\\local-packages\\python312\\site-packages (from pandas==2.1.4->-r ../requirements.txt (line 4)) (2.9.0.post0)\n",
      "Requirement already satisfied: pytz>=2020.1 in c:\\users\\kumar\\appdata\\local\\packages\\pythonsoftwarefoundation.python.3.12_qbz5n2kfra8p0\\localcache\\local-packages\\python312\\site-packages (from pandas==2.1.4->-r ../requirements.txt (line 4)) (2025.2)\n",
      "Requirement already satisfied: tzdata>=2022.1 in c:\\users\\kumar\\appdata\\local\\packages\\pythonsoftwarefoundation.python.3.12_qbz5n2kfra8p0\\localcache\\local-packages\\python312\\site-packages (from pandas==2.1.4->-r ../requirements.txt (line 4)) (2025.2)\n",
      "Requirement already satisfied: contourpy>=1.0.1 in c:\\users\\kumar\\appdata\\local\\packages\\pythonsoftwarefoundation.python.3.12_qbz5n2kfra8p0\\localcache\\local-packages\\python312\\site-packages (from matplotlib==3.8.2->-r ../requirements.txt (line 5)) (1.3.3)\n",
      "Requirement already satisfied: cycler>=0.10 in c:\\users\\kumar\\appdata\\local\\packages\\pythonsoftwarefoundation.python.3.12_qbz5n2kfra8p0\\localcache\\local-packages\\python312\\site-packages (from matplotlib==3.8.2->-r ../requirements.txt (line 5)) (0.12.1)\n",
      "Requirement already satisfied: fonttools>=4.22.0 in c:\\users\\kumar\\appdata\\local\\packages\\pythonsoftwarefoundation.python.3.12_qbz5n2kfra8p0\\localcache\\local-packages\\python312\\site-packages (from matplotlib==3.8.2->-r ../requirements.txt (line 5)) (4.60.1)\n",
      "Requirement already satisfied: kiwisolver>=1.3.1 in c:\\users\\kumar\\appdata\\local\\packages\\pythonsoftwarefoundation.python.3.12_qbz5n2kfra8p0\\localcache\\local-packages\\python312\\site-packages (from matplotlib==3.8.2->-r ../requirements.txt (line 5)) (1.4.9)\n",
      "Requirement already satisfied: packaging>=20.0 in c:\\users\\kumar\\appdata\\local\\packages\\pythonsoftwarefoundation.python.3.12_qbz5n2kfra8p0\\localcache\\local-packages\\python312\\site-packages (from matplotlib==3.8.2->-r ../requirements.txt (line 5)) (25.0)\n",
      "Requirement already satisfied: pillow>=8 in c:\\users\\kumar\\appdata\\local\\packages\\pythonsoftwarefoundation.python.3.12_qbz5n2kfra8p0\\localcache\\local-packages\\python312\\site-packages (from matplotlib==3.8.2->-r ../requirements.txt (line 5)) (11.3.0)\n",
      "Requirement already satisfied: pyparsing>=2.3.1 in c:\\users\\kumar\\appdata\\local\\packages\\pythonsoftwarefoundation.python.3.12_qbz5n2kfra8p0\\localcache\\local-packages\\python312\\site-packages (from matplotlib==3.8.2->-r ../requirements.txt (line 5)) (3.2.5)\n",
      "Requirement already satisfied: six>=1.11.0 in c:\\users\\kumar\\appdata\\local\\packages\\pythonsoftwarefoundation.python.3.12_qbz5n2kfra8p0\\localcache\\local-packages\\python312\\site-packages (from azure-core<2.0.0,>=1.24.0->azure-monitor-query==1.2.0->-r ../requirements.txt (line 2)) (1.17.0)\n",
      "Requirement already satisfied: cffi>=2.0.0 in c:\\users\\kumar\\appdata\\local\\packages\\pythonsoftwarefoundation.python.3.12_qbz5n2kfra8p0\\localcache\\local-packages\\python312\\site-packages (from cryptography>=2.5->azure-identity==1.17.0->-r ../requirements.txt (line 3)) (2.0.0)\n",
      "Requirement already satisfied: PyJWT<3,>=1.0.0 in c:\\users\\kumar\\appdata\\local\\packages\\pythonsoftwarefoundation.python.3.12_qbz5n2kfra8p0\\localcache\\local-packages\\python312\\site-packages (from PyJWT[crypto]<3,>=1.0.0->msal>=1.24.0->azure-identity==1.17.0->-r ../requirements.txt (line 3)) (2.10.1)\n",
      "Requirement already satisfied: pycparser in c:\\users\\kumar\\appdata\\local\\packages\\pythonsoftwarefoundation.python.3.12_qbz5n2kfra8p0\\localcache\\local-packages\\python312\\site-packages (from cffi>=2.0.0->cryptography>=2.5->azure-identity==1.17.0->-r ../requirements.txt (line 3)) (2.23)\n",
      "Note: you may need to restart the kernel to use updated packages.\n",
      "✅ Deps installed—restart kernel if needed (Kernel > Restart).\n"
     ]
    },
    {
     "name": "stderr",
     "output_type": "stream",
     "text": [
      "\n",
      "[notice] A new release of pip is available: 25.0.1 -> 25.2\n",
      "[notice] To update, run: C:\\Users\\kumar\\AppData\\Local\\Microsoft\\WindowsApps\\PythonSoftwareFoundation.Python.3.12_qbz5n2kfra8p0\\python.exe -m pip install --upgrade pip\n"
     ]
    }
   ],
   "source": [
    "# Install from requirements.txt (run once)\n",
    "%pip install -r ../requirements.txt\n",
    "print('✅ Deps installed—restart kernel if needed (Kernel > Restart).')"
   ]
  },
  {
   "cell_type": "markdown",
   "metadata": {},
   "source": [
    "# AIOps Anomaly Detection: Interactive Demo\n",
    "\n",
    "**Overview**: Offline simulation of automated anomaly detection for IT ops (e.g., Azure VM CPU metrics). \n",
    "- Learns 'normal' patterns from time-series data.\n",
    "- Flags deviations without manual thresholds.\n",
    "- Visualizes actual vs. expected for proactive downtime prevention.\n",
    "\n",
    "**Tune & Re-run**: Change `anomaly_prob` or `num_points` in Cell 3, then re-execute.\n",
    "\n",
    "Future: Replace mocks with Azure Monitor fetches for real data."
   ]
  },
  {
   "cell_type": "code",
   "execution_count": 2,
   "id": "4281e5bd",
   "metadata": {},
   "outputs": [],
   "source": [
    "# Imports (path to root for src/)\n",
    "import sys\n",
    "import random\n",
    "sys.path.append('..')\n",
    "from src.detect_anomalies import create_payload_with_anomalies\n",
    "from src.visualize_anomalies import plot_detection\n",
    "from datetime import datetime"
   ]
  },
  {
   "cell_type": "code",
   "execution_count": 3,
   "metadata": {},
   "outputs": [
    {
     "name": "stdout",
     "output_type": "stream",
     "text": [
      "Generated 50 points with ~7 expected anomalies.\n",
      "Sample data: [{'timestamp': '2025-10-08T17:56:26.221730', 'value': 101.89485435196121}, {'timestamp': '2025-10-08T17:55:26.221730', 'value': 77.76699487422911}, {'timestamp': '2025-10-08T17:54:26.221730', 'value': 72.86938832629416}]\n"
     ]
    }
   ],
   "source": [
    "# Step 1: Generate synthetic time-series data\n",
    "# Simulates metrics like CPU % with patterns + random anomalies (spikes/drops)\n",
    "random.seed(42)  # Reproducible for demos\n",
    "payload = create_payload_with_anomalies(\n",
    "    num_points=50,  # e.g., 50 mins of data\n",
    "    anomaly_prob=0.15,  # 15% deviation chance (tune here!)\n",
    "    base_value=75  # Normal baseline\n",
    ")\n",
    "print(f\"Generated {len(payload['series'])} points with ~{int(0.15*50)} expected anomalies.\")\n",
    "print(\"Sample data:\", payload['series'][:3])  # Peek at first points"
   ]
  },
  {
   "cell_type": "code",
   "execution_count": 4,
   "metadata": {},
   "outputs": [
    {
     "name": "stdout",
     "output_type": "stream",
     "text": [
      "Mock detection: 9 anomalies flagged! 🚨\n",
      "(Proactive alert: Auto-scale resources?)\n"
     ]
    }
   ],
   "source": [
    "# Step 2: Mock Detection (AIOps 'learns' patterns & flags deviations)\n",
    "# Real: Call Azure Anomaly Detector API with env vars\n",
    "result = {\n",
    "    'isAnomaly': True,  # Overall flag\n",
    "    'expectedValues': [75] * len(payload['series']),  # Mock learned baseline\n",
    "    'anomalyStatus': [1 if random.random() < 0.15 else 0 for _ in payload['series']]  # Per-point flags\n",
    "}\n",
    "anomaly_count = sum(result['anomalyStatus'])\n",
    "print(f\"Mock detection: {anomaly_count} anomalies flagged! 🚨\\n(Proactive alert: Auto-scale resources?)\")"
   ]
  },
  {
   "cell_type": "code",
   "execution_count": 5,
   "metadata": {},
   "outputs": [
    {
     "name": "stdout",
     "output_type": "stream",
     "text": [
      "📊 Plot saved to anomaly_demo_nb.png\n",
      "Plot rendered—check inline/PNG for spikes & reds!\n"
     ]
    }
   ],
   "source": [
    "# Step 3: Visualize (actual vs. expected, red dots on deviations)\n",
    "plot_detection(payload, result, save_path='anomaly_demo_nb.png', show_plot=True)\n",
    "print(\"Plot rendered—check inline/PNG for spikes & reds!\")"
   ]
  },
  {
   "cell_type": "code",
   "execution_count": 6,
   "id": "62b7d55b",
   "metadata": {},
   "outputs": [
    {
     "name": "stdout",
     "output_type": "stream",
     "text": [
      "\n",
      "🚨 AIOps Alert: High Deviation Detected!\n",
      "- Metrics: CPU % (simulated)\n",
      "- Anomalies: 9 in last 50 mins\n",
      "- Top Deviation: Max spike 111.84357447768423% at ~2025-10-08T17:56:26.221730\n",
      "- Action: Auto-scale resources or investigate logs.\n",
      "- Severity: Medium (tune for multi-cloud)\n",
      "\n",
      "📧 Mock: Alert sent to Ops team via Azure Alerts/Teams.\n"
     ]
    }
   ],
   "source": [
    "# Step 4: Mock Alerting (Proactive Response on Anomalies)\n",
    "# Real: Post to Azure Action Group webhook or email\n",
    "alert_threshold = 3  # e.g., alert if >3 anomalies in window\n",
    "if anomaly_count > alert_threshold:\n",
    "    alert_msg = f\"\"\"\n",
    "🚨 AIOps Alert: High Deviation Detected!\n",
    "- Metrics: CPU % (simulated)\n",
    "- Anomalies: {anomaly_count} in last {len(payload['series'])} mins\n",
    "- Top Deviation: Max spike {max([p['value'] for p in payload['series']])}% at ~{payload['series'][0]['timestamp']}\n",
    "- Action: Auto-scale resources or investigate logs.\n",
    "- Severity: Medium (tune for multi-cloud)\n",
    "\"\"\"\n",
    "    print(alert_msg)\n",
    "    \n",
    "    # Mock 'send' (e.g., to email/Slack)\n",
    "    print(\"📧 Mock: Alert sent to Ops team via Azure Alerts/Teams.\")\n",
    "else:\n",
    "    print(\"✅ No alerts triggered—all within normal patterns.\")"
   ]
  },
  {
   "cell_type": "markdown",
   "id": "d25c9f8a",
   "metadata": {},
   "source": [
    "## Multi-Cloud Extension + Alerting\n",
    "\n",
    "| Cloud | Data Source | Alert Integration |\n",
    "|-------|-------------|-------------------|\n",
    "| **Azure** | Monitor/Log Analytics | Action Groups + Logic Apps for emails/SMS. |\n",
    "| **AWS** | CloudWatch | SNS notifications on alarms. |\n",
    "| **GCP** | Operations Suite | Alerting policies to Pub/Sub. |\n",
    "\n",
    "**Next Steps**: \n",
    "- Wire mocks to real webhooks.\n",
    "- Test with simulated downtime (e.g., anomaly_prob=0.5)."
   ]
  }
 ],
 "metadata": {
  "kernelspec": {
   "display_name": "Python 3",
   "language": "python",
   "name": "python3"
  },
  "language_info": {
   "codemirror_mode": {
    "name": "ipython",
    "version": 3
   },
   "file_extension": ".py",
   "mimetype": "text/x-python",
   "name": "python",
   "nbconvert_exporter": "python",
   "pygments_lexer": "ipython3",
   "version": "3.13.0"
  }
 },
 "nbformat": 4,
 "nbformat_minor": 5
}
